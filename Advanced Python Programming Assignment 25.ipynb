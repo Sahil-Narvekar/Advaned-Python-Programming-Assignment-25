{
 "cells": [
  {
   "cell_type": "code",
   "execution_count": null,
   "metadata": {},
   "outputs": [],
   "source": [
    "1. Write four functions that directly mutate a list:\n",
    "\n",
    "    1. repeat(lst, n): Repeat lst n times.\n",
    "    2. add(lst, x): Adds x to the end of the lst.\n",
    "    3. remove(lst, m, n): Removes all elements between indices m and n inclusive in lst.\n",
    "    4. concat(lst, x): concatenates lst with x (another list).\n",
    "\n",
    "Examples\n",
    "\n",
    "lst = [1, 2, 3, 4]\n",
    "\n",
    "repeat(lst, 3) ➞ [1, 2, 3, 4, 1, 2, 3, 4, 1, 2, 3, 4] \n",
    "\n",
    "add(lst, 1) ➞ [1, 2, 3, 4, 1, 2, 3, 4, 1, 2, 3, 4, 1]\n",
    "\n",
    "remove(lst, 1, 12) ➞ [1]\n",
    "\n",
    "concat(lst, [3, 4]) ➞ [1, 3, 4]\n"
   ]
  },
  {
   "cell_type": "code",
   "execution_count": 25,
   "metadata": {},
   "outputs": [
    {
     "name": "stdout",
     "output_type": "stream",
     "text": [
      "Enter the numbers 1,2,3,4\n",
      "Enter the respective function integer for function to be performed4\n",
      "ENter the list 5,6,4\n",
      "[1, 2, 3, 4, 5, 6, 4]\n"
     ]
    }
   ],
   "source": [
    "def repeat(z,x):\n",
    "    s=z*x\n",
    "    return s\n",
    "def add(z,x):\n",
    "    z.append(x)\n",
    "    s=z\n",
    "    return s\n",
    "def remove(z,x,y):\n",
    "    p=[]\n",
    "    for i in range(len(z)):\n",
    "        if i not in range(x,y+1):\n",
    "            p.append(z[i])\n",
    "    return p\n",
    "def concat(z,l):\n",
    "    p=z+l\n",
    "    return p\n",
    "z=input('Enter the numbers ').split(',')\n",
    "z=[int(i) for i in z]\n",
    "d=int(input('Enter the respective function integer for function to be performed'))\n",
    "if d==1:\n",
    "    r=int(input('Repeat list n times'))\n",
    "    z=repeat(z,r)   \n",
    "    print(z)\n",
    "elif d==2:\n",
    "    r=int(input('Add element at end of list'))\n",
    "    z=add(z,x)\n",
    "    print(z)\n",
    "elif d==3:\n",
    "    v,y=input('Removes all elements between indices m and n inclusive in lst')\n",
    "    z=remove(z,int(v),int(y))  \n",
    "    print(z)\n",
    "else:\n",
    "    l=list(input('ENter the list ').split(','))\n",
    "    l=[int(i) for i in l]\n",
    "    z=concat(z,l)\n",
    "    print(z)      "
   ]
  },
  {
   "cell_type": "code",
   "execution_count": null,
   "metadata": {},
   "outputs": [],
   "source": [
    "2. The classic game of Mastermind is played on a tray on which the Mastermind conceals a code and the Guesser has 10 tries to guess it. The code is a sequence of 4 (or 6, sometimes more) pegs of different colors. Each guess is a corresponding sequence of 4 (or more) pegs of different colors. A guess is \"correct\" when the color of every peg in the guess exactly matches the corresponding peg in the Mastermind's code.\n",
    "\n",
    "After each guess by the Guesser, the Mastermind will give a score comprising black & white pegs, not arranged in any order:\n",
    "\n",
    "   - Black peg == guess peg matches the color of a code peg in the same position.\n",
    "   - White peg == guess peg matches the color of a code peg in another position.\n",
    "\n",
    "Create a function that takes two strings, code and guess as arguments, and returns the score in a \n",
    "dictionary.\n",
    "\n",
    "   - The code and guess are strings of numeric digits\n",
    "   - The color of the pegs are represented by numeric digits\n",
    "   - no \"peg\" may be double-scored\n",
    "\n",
    "Examples\n",
    "\n",
    "guess_score(\"1423\", \"5678\") ➞ {\"black\": 0, \"white\": 0}\n",
    "\n",
    "guess_score(\"1423\", \"2222\") ➞ {\"black\": 1, \"white\": 0}\n",
    "\n",
    "guess_score(\"1423\", \"1234\") ➞ {\"black\": 1, \"white\": 3}\n",
    "\n",
    "guess_score(\"1423\", \"2211\") ➞ {\"black\": 0, \"white\": 2}\n"
   ]
  },
  {
   "cell_type": "code",
   "execution_count": 47,
   "metadata": {},
   "outputs": [
    {
     "name": "stdout",
     "output_type": "stream",
     "text": [
      "Enter the 2 strings separated by comma 1423,1234\n"
     ]
    },
    {
     "data": {
      "text/plain": [
       "{'black': 1, 'white': 3}"
      ]
     },
     "execution_count": 47,
     "metadata": {},
     "output_type": "execute_result"
    }
   ],
   "source": [
    "a,b=(input('Enter the 2 strings separated by comma ').split(','))\n",
    "def guess_score(a,b):\n",
    "    d=dict()\n",
    "    count,count2=0,0\n",
    "    a,b=[int(i)for i in a],[int(i) for i in b]\n",
    "    for i in range(len(a)):\n",
    "        if a[i]==b[i]:\n",
    "            count+=1    \n",
    "        elif a[i] in b:\n",
    "            count2+=1\n",
    "        else:\n",
    "            continue\n",
    "    d['black']=count\n",
    "    d['white']=count2\n",
    "    return(d)\n",
    "guess_score(a,b)"
   ]
  },
  {
   "cell_type": "code",
   "execution_count": null,
   "metadata": {},
   "outputs": [],
   "source": [
    "3. Create a function that takes a list lst and a number N and returns a list of two integers from lst\n",
    "whose product equals N.\n",
    "\n",
    "Examples\n",
    "\n",
    "two_product([1, 2, -1, 4, 5], 20) ➞ [4, 5]\n",
    "\n",
    "two_product([1, 2, 3, 4, 5], 10) ➞ [2, 5]\n",
    "\n",
    "two_product([100, 12, 4, 1, 2], 15) ➞ None\n"
   ]
  },
  {
   "cell_type": "code",
   "execution_count": 62,
   "metadata": {},
   "outputs": [
    {
     "name": "stdout",
     "output_type": "stream",
     "text": [
      "Enter the numbers list 100, 12, 4, 1, 2\n",
      "Enter the number n 15\n"
     ]
    },
    {
     "data": {
      "text/plain": [
       "'None'"
      ]
     },
     "execution_count": 62,
     "metadata": {},
     "output_type": "execute_result"
    }
   ],
   "source": [
    "a=(input('Enter the numbers list ').split(','))\n",
    "a=[int(i) for i in a]\n",
    "b=int(input('Enter the number n '))\n",
    "def two_product(a,b):\n",
    "    l,c=[],[]\n",
    "    for i in a:\n",
    "        if b%i==0:\n",
    "            l.append(int(b/i))\n",
    "    for i in a:\n",
    "        if i in l:\n",
    "            c.append(i)\n",
    "    if len(c)==0:\n",
    "        return 'None'\n",
    "    else:\n",
    "        return(c)  \n",
    "two_product(a,b)"
   ]
  },
  {
   "cell_type": "code",
   "execution_count": null,
   "metadata": {},
   "outputs": [],
   "source": [
    "4. In this challenge, sort a list containing a series of dates given as strings. Each date is given in \n",
    "the format DD-MM-YYYY_HH:MM:\n",
    "\n",
    "\"12-02-2012_13:44\"\n",
    "\n",
    "The priority of criteria used for sorting will be:\n",
    "\n",
    "  - Year\n",
    "  - Month\n",
    "  - Day\n",
    "  - Hours\n",
    "  - Minutes\n",
    "\n",
    "Given a list lst and a string mode, implement a function that returns:\n",
    "\n",
    "   - if mode is equal to \"ASC\", the list lst sorted in ascending order.\n",
    "   - if mode is equal to \"DSC\", the list lst sorted in descending order.\n",
    "\n",
    "Examples\n",
    "\n",
    "sort_dates([\"10-02-2018_12:30\", \"10-02-2016_12:30\", \"10-02-2018_12:15\"], \"ASC\") ➞ [\"10-02-2016_12:30\", \"10-02-2018_12:15\", \"10-02-2018_12:30\"]\n",
    "\n",
    "sort_dates([\"10-02-2018_12:30\", \"10-02-2016_12:30\", \"10-02-2018_12:15\"], \"DSC\") ➞ [\"10-02-2018_12:30\", \"10-02-2018_12:15\", \"10-02-2016_12:30\"]\n",
    "\n",
    "sort_dates([\"09-02-2000_10:03\", \"10-02-2000_18:29\", \"01-01-1999_00:55\"], \"ASC\") ➞ [\"01-01-1999_00:55\", \"09-02-2000_10:03\", \"10-02-2000_18:29\"]\n"
   ]
  },
  {
   "cell_type": "code",
   "execution_count": 136,
   "metadata": {},
   "outputs": [
    {
     "name": "stdout",
     "output_type": "stream",
     "text": [
      "Enter the list and assign it to variable g\n",
      "Enter ASC or DSC DSC\n"
     ]
    },
    {
     "data": {
      "text/plain": [
       "['2000-02-10 18:29', '2000-02-09 10:03', '1999-01-01 00:55']"
      ]
     },
     "execution_count": 136,
     "metadata": {},
     "output_type": "execute_result"
    }
   ],
   "source": [
    "print('Enter the list and assign it to variable g')\n",
    "#taking the input from user as list would change the format of time stamp and \n",
    "#hence code was not getting executed\n",
    "g=[\"09-02-2000_10:03\", \"10-02-2000_18:29\", \"01-01-1999_00:55\"]\n",
    "d=input('Enter ASC or DSC ')\n",
    "def sort_dates(a,b):\n",
    "    z=[]\n",
    "    for i in a:\n",
    "        e='%d-%m-%Y_%H:%M'\n",
    "        s=\"10-02-2018_12:30\"\n",
    "        d = datetime.datetime.strptime(i, e)\n",
    "        d=(datetime.datetime.strftime(d, '%Y-%m-%d %H:%M'))\n",
    "        z.append(d)\n",
    "    if b=='DSC':\n",
    "        a=sorted(z,reverse=True)\n",
    "        return a\n",
    "    else:\n",
    "        a=sorted(z)\n",
    "        return a,z\n",
    "sort_dates(g,d)"
   ]
  },
  {
   "cell_type": "code",
   "execution_count": null,
   "metadata": {},
   "outputs": [],
   "source": [
    "5. Write a function that selects all words that have all the same vowels (in any order and/or number) \n",
    "as the first word, including the first word.\n",
    "\n",
    "Examples\n",
    "\n",
    "same_vowel_group([\"toe\", \"ocelot\", \"maniac\"]) ➞ [\"toe\", \"ocelot\"]\n",
    "\n",
    "same_vowel_group([\"many\", \"carriage\", \"emit\", \"apricot\", \"animal\"]) ➞ [\"many\"]\n",
    "\n",
    "same_vowel_group([\"hoops\", \"chuff\", \"bot\", \"bottom\"]) ➞ [\"hoops\", \"bot\", \"bottom\"]\n",
    "\n"
   ]
  },
  {
   "cell_type": "code",
   "execution_count": 201,
   "metadata": {},
   "outputs": [
    {
     "name": "stdout",
     "output_type": "stream",
     "text": [
      "Enter the words \"toe\", \"ocelot\", \"maniac\"\n"
     ]
    },
    {
     "data": {
      "text/plain": [
       "['\"toe\"', ' \"ocelot\"']"
      ]
     },
     "execution_count": 201,
     "metadata": {},
     "output_type": "execute_result"
    }
   ],
   "source": [
    "a=input('Enter the words ').split(',')\n",
    "def same_vowel_group(a): \n",
    "    b=['a','e','i','o','u']\n",
    "    z=dict()\n",
    "    for i in a:\n",
    "        z[i]=set()\n",
    "        for j in i:\n",
    "            if j in b:\n",
    "                z[i].add(j)   \n",
    "    z=[list(i) for i in z.values()]\n",
    "    f=[]\n",
    "    for i in range(len(z)):\n",
    "        if z[i]==z[0]:\n",
    "            f.append(a[i])\n",
    "    return(f)\n",
    "same_vowel_group(a)"
   ]
  },
  {
   "cell_type": "code",
   "execution_count": null,
   "metadata": {},
   "outputs": [],
   "source": [
    "6. Create a function that takes a list of more than three numbers and returns the Least Common \n",
    "Multiple (LCM).\n",
    "\n",
    "Examples\n",
    "\n",
    "lcm_of_list([1, 2, 3, 4, 5, 6, 7, 8, 9, 10]) ➞ 2520\n",
    "\n",
    "lcm_of_list([13, 6, 17, 18, 19, 20, 37]) ➞ 27965340\n",
    "\n",
    "lcm_of_list([44, 64, 12, 17, 65]) ➞ 2333760"
   ]
  },
  {
   "cell_type": "code",
   "execution_count": 207,
   "metadata": {},
   "outputs": [
    {
     "name": "stdout",
     "output_type": "stream",
     "text": [
      "Enter the list13, 6, 17, 18, 19, 20, 37\n"
     ]
    },
    {
     "data": {
      "text/plain": [
       "27965340"
      ]
     },
     "execution_count": 207,
     "metadata": {},
     "output_type": "execute_result"
    }
   ],
   "source": [
    "a=(input('Enter the list').split(','))\n",
    "a=[int(i) for i in a]\n",
    "def lcm_of_list(a):\n",
    "    import numpy as np\n",
    "    a=np.array(a)\n",
    "    x=np.lcm.reduce(a)\n",
    "    return(x)\n",
    "lcm_of_list(a)"
   ]
  },
  {
   "cell_type": "code",
   "execution_count": null,
   "metadata": {},
   "outputs": [],
   "source": []
  }
 ],
 "metadata": {
  "kernelspec": {
   "display_name": "Python 3",
   "language": "python",
   "name": "python3"
  },
  "language_info": {
   "codemirror_mode": {
    "name": "ipython",
    "version": 3
   },
   "file_extension": ".py",
   "mimetype": "text/x-python",
   "name": "python",
   "nbconvert_exporter": "python",
   "pygments_lexer": "ipython3",
   "version": "3.8.3"
  }
 },
 "nbformat": 4,
 "nbformat_minor": 4
}
